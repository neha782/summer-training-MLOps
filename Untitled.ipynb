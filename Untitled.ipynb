{
 "cells": [
  {
   "cell_type": "code",
   "execution_count": 1,
   "id": "e82d3a59",
   "metadata": {},
   "outputs": [],
   "source": [
    "import numpy\n",
    "list = [[1, \"neha\", 222],[2, \"star\", 333],[3, \"shiv\",555]]\n"
   ]
  },
  {
   "cell_type": "code",
   "execution_count": 2,
   "id": "c1fe002b",
   "metadata": {},
   "outputs": [
    {
     "data": {
      "text/plain": [
       "[[1, 'neha', 222], [2, 'star', 333], [3, 'shiv', 555]]"
      ]
     },
     "execution_count": 2,
     "metadata": {},
     "output_type": "execute_result"
    }
   ],
   "source": [
    "list\n"
   ]
  },
  {
   "cell_type": "code",
   "execution_count": 3,
   "id": "4ec6b7df",
   "metadata": {},
   "outputs": [],
   "source": [
    "a = numpy.array(list)"
   ]
  },
  {
   "cell_type": "code",
   "execution_count": 4,
   "id": "4a513948",
   "metadata": {},
   "outputs": [
    {
     "data": {
      "text/plain": [
       "array([['1', 'neha', '222'],\n",
       "       ['2', 'star', '333'],\n",
       "       ['3', 'shiv', '555']], dtype='<U11')"
      ]
     },
     "execution_count": 4,
     "metadata": {},
     "output_type": "execute_result"
    }
   ],
   "source": [
    "a"
   ]
  },
  {
   "cell_type": "code",
   "execution_count": 5,
   "id": "0d567fc1",
   "metadata": {},
   "outputs": [
    {
     "data": {
      "text/plain": [
       "array(['neha', 'star', 'shiv'], dtype='<U11')"
      ]
     },
     "execution_count": 5,
     "metadata": {},
     "output_type": "execute_result"
    }
   ],
   "source": [
    "a[:, 1]"
   ]
  },
  {
   "cell_type": "code",
   "execution_count": 6,
   "id": "06423439",
   "metadata": {},
   "outputs": [
    {
     "data": {
      "text/plain": [
       "array([], shape=(0, 3), dtype='<U11')"
      ]
     },
     "execution_count": 6,
     "metadata": {},
     "output_type": "execute_result"
    }
   ],
   "source": [
    "a[1:1,]"
   ]
  },
  {
   "cell_type": "code",
   "execution_count": 7,
   "id": "06393ff1",
   "metadata": {},
   "outputs": [
    {
     "data": {
      "text/plain": [
       "array([['star', '333'],\n",
       "       ['shiv', '555']], dtype='<U11')"
      ]
     },
     "execution_count": 7,
     "metadata": {},
     "output_type": "execute_result"
    }
   ],
   "source": [
    "a[1:3,1:3]"
   ]
  },
  {
   "cell_type": "code",
   "execution_count": 11,
   "id": "0de4cca9",
   "metadata": {},
   "outputs": [
    {
     "data": {
      "text/plain": [
       "array([['555']], dtype='<U11')"
      ]
     },
     "execution_count": 11,
     "metadata": {},
     "output_type": "execute_result"
    }
   ],
   "source": [
    "a[2:3,2:3]"
   ]
  },
  {
   "cell_type": "code",
   "execution_count": 12,
   "id": "5be28b85",
   "metadata": {},
   "outputs": [
    {
     "data": {
      "text/plain": [
       "array([['star']], dtype='<U11')"
      ]
     },
     "execution_count": 12,
     "metadata": {},
     "output_type": "execute_result"
    }
   ],
   "source": [
    "a[1:2, 1:2]"
   ]
  },
  {
   "cell_type": "code",
   "execution_count": 13,
   "id": "4f230778",
   "metadata": {},
   "outputs": [
    {
     "data": {
      "text/plain": [
       "array([['1']], dtype='<U11')"
      ]
     },
     "execution_count": 13,
     "metadata": {},
     "output_type": "execute_result"
    }
   ],
   "source": [
    "a[0:1,0:1]"
   ]
  },
  {
   "cell_type": "code",
   "execution_count": 14,
   "id": "19f61484",
   "metadata": {},
   "outputs": [
    {
     "data": {
      "text/plain": [
       "array([['2']], dtype='<U11')"
      ]
     },
     "execution_count": 14,
     "metadata": {},
     "output_type": "execute_result"
    }
   ],
   "source": [
    "a[1:2,0:1]"
   ]
  },
  {
   "cell_type": "code",
   "execution_count": null,
   "id": "93b5330b",
   "metadata": {},
   "outputs": [],
   "source": []
  }
 ],
 "metadata": {
  "kernelspec": {
   "display_name": "Python 3",
   "language": "python",
   "name": "python3"
  },
  "language_info": {
   "codemirror_mode": {
    "name": "ipython",
    "version": 3
   },
   "file_extension": ".py",
   "mimetype": "text/x-python",
   "name": "python",
   "nbconvert_exporter": "python",
   "pygments_lexer": "ipython3",
   "version": "3.8.8"
  }
 },
 "nbformat": 4,
 "nbformat_minor": 5
}
